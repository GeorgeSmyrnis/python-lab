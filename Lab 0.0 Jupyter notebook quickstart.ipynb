{
 "cells": [
  {
   "cell_type": "markdown",
   "metadata": {},
   "source": [
    "# Jupyter notebook quickstart"
   ]
  },
  {
   "cell_type": "raw",
   "metadata": {},
   "source": [
    "Jupyter notebook is an interactive python console.\n",
    "\n",
    "It allows for python execution in the browser and \n",
    "easy inspection of the code results and the plots\n",
    "produced.\n",
    "\n",
    "Furthermore it allows to write plain text along\n",
    "with the code that makes it easy to document the code\n",
    "and explain the math / intuition behind it.\n",
    "\n",
    "This is why it is widely used for exploratory data\n",
    "analysis and for presentations like this one"
   ]
  },
  {
   "cell_type": "raw",
   "metadata": {},
   "source": [
    "1. Use <Enter> to enter a shell in edit mode\n",
    "2. Use <Esc> to leave edit mode\n",
    "3. Use <Shift>+<Enter> to execute a shell and move to the next\n",
    "4. Use <Alt>+<Enter> to execute a shell and insert another below"
   ]
  },
  {
   "cell_type": "markdown",
   "metadata": {},
   "source": [
    "%timeit Measures how long a statement takes to execute"
   ]
  },
  {
   "cell_type": "code",
   "execution_count": 1,
   "metadata": {},
   "outputs": [
    {
     "name": "stdout",
     "output_type": "stream",
     "text": [
      "2.1 ms ± 60.4 µs per loop (mean ± std. dev. of 7 runs, 100 loops each)\n"
     ]
    }
   ],
   "source": [
    "import random\n",
    "L = [random.random() for i in range(100000)]\n",
    "%timeit L.sort()"
   ]
  },
  {
   "cell_type": "markdown",
   "metadata": {},
   "source": [
    "%ls Lists the contents of the current directory"
   ]
  },
  {
   "cell_type": "code",
   "execution_count": 2,
   "metadata": {},
   "outputs": [
    {
     "name": "stdout",
     "output_type": "stream",
     "text": [
      " Volume in drive C has no label.\n",
      " Volume Serial Number is CE8D-D338\n",
      "\n",
      " Directory of C:\\Users\\Nikos\\code\\python-lab\n",
      "\n",
      "03/23/2020  04:31 PM    <DIR>          .\n",
      "03/23/2020  04:31 PM    <DIR>          ..\n",
      "03/23/2020  04:23 PM                64 .gitignore\n",
      "03/23/2020  04:31 PM    <DIR>          .ipynb_checkpoints\n",
      "03/23/2020  04:23 PM            56,658 baboon.png\n",
      "03/23/2020  04:23 PM               672 digit.png\n",
      "03/23/2020  04:23 PM               550 install_openfst.sh\n",
      "03/23/2020  04:23 PM             3,299 Lab 0.0 Jupyter notebook quickstart.ipynb\n",
      "03/23/2020  04:23 PM            24,548 Lab 0.1 Python 101.ipynb\n",
      "03/23/2020  04:23 PM            31,260 Lab 0.2 Numpy Basics.ipynb\n",
      "03/23/2020  04:23 PM           787,450 Lab 0.3 Scikit-learn.ipynb\n",
      "03/23/2020  04:23 PM           325,924 Lab 0.4 OpenCV.ipynb\n",
      "03/23/2020  04:23 PM            37,123 Pytorch Demo.ipynb\n",
      "03/23/2020  04:23 PM             1,307 README.md\n",
      "03/23/2020  04:23 PM             3,921 spell_checker_test_set\n",
      "03/23/2020  04:23 PM               593 start_jupyter.bash\n",
      "03/23/2020  04:23 PM             3,099 Vagrantfile.cv\n",
      "03/23/2020  04:23 PM             3,018 Vagrantfile.patreco\n",
      "03/23/2020  04:23 PM             3,014 Vagrantfile.slp\n",
      "              16 File(s)      1,282,500 bytes\n",
      "               3 Dir(s)  171,111,653,376 bytes free\n"
     ]
    }
   ],
   "source": [
    "%ls"
   ]
  },
  {
   "cell_type": "markdown",
   "metadata": {},
   "source": [
    "%pwd shows the current working directory"
   ]
  },
  {
   "cell_type": "code",
   "execution_count": 3,
   "metadata": {},
   "outputs": [
    {
     "data": {
      "text/plain": [
       "'C:\\\\Users\\\\Nikos\\\\code\\\\python-lab'"
      ]
     },
     "execution_count": 3,
     "metadata": {},
     "output_type": "execute_result"
    }
   ],
   "source": [
    "%pwd"
   ]
  },
  {
   "cell_type": "markdown",
   "metadata": {},
   "source": [
    "? shows the documentation of a function / class / module"
   ]
  },
  {
   "cell_type": "code",
   "execution_count": 4,
   "metadata": {},
   "outputs": [],
   "source": [
    "import os\n",
    "\n",
    "os?"
   ]
  },
  {
   "cell_type": "markdown",
   "metadata": {},
   "source": [
    "?? shows extended documentation and code if available"
   ]
  },
  {
   "cell_type": "code",
   "execution_count": null,
   "metadata": {},
   "outputs": [],
   "source": [
    "os??"
   ]
  },
  {
   "cell_type": "markdown",
   "metadata": {},
   "source": [
    "## Further reading\n",
    "\n",
    "1. https://www.datacamp.com/community/tutorials/tutorial-jupyter-notebook  \n",
    "2. https://jupyter-notebook-beginner-guide.readthedocs.io/en/latest/"
   ]
  }
 ],
 "metadata": {
  "kernelspec": {
   "display_name": "Python 3",
   "language": "python",
   "name": "python3"
  },
  "language_info": {
   "codemirror_mode": {
    "name": "ipython",
    "version": 3
   },
   "file_extension": ".py",
   "mimetype": "text/x-python",
   "name": "python",
   "nbconvert_exporter": "python",
   "pygments_lexer": "ipython3",
   "version": "3.8.2"
  }
 },
 "nbformat": 4,
 "nbformat_minor": 2
}
